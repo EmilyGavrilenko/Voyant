{
 "cells": [
  {
   "cell_type": "code",
   "execution_count": 9,
   "metadata": {},
   "outputs": [
    {
     "name": "stdout",
     "output_type": "stream",
     "text": [
      "Data saved to sql seed file\n"
     ]
    }
   ],
   "source": [
    "import requests\n",
    "import csv\n",
    "\n",
    "def fetch_countries_data(endpoint_url):\n",
    "    response = requests.get(endpoint_url)\n",
    "    \n",
    "    if response.status_code == 200:\n",
    "        countries_data = response.json()\n",
    "        sql_file_data = \"\"\"\n",
    "            -- Seeding countries_country table\n",
    "            INSERT INTO countries_country (iso3, name, continent, flag, latitude, longitude) \n",
    "            VALUES\n",
    "            \"\"\"\n",
    "\n",
    "        # Extract required details for each country\n",
    "        for country in countries_data:\n",
    "            country_name = country.get('name').get('common')\n",
    "            iso3_code = country.get('cca3')\n",
    "            flag = country.get('flag')\n",
    "            lat, long = country.get('latlng')\n",
    "            continent = country['continents'][0] if country['continents'] else \"N/A\"\n",
    "\n",
    "            sql_file_data += f\"('{iso3_code}', '{country_name}', '{continent}', '{flag}', {lat}, {long}),\\n\"\n",
    "\n",
    "        # Write data to sql seed file\n",
    "        with open('seed_countries.sql', 'w') as f:\n",
    "            f.write(sql_file_data[:-2] + ';')\n",
    "        print(f\"Data saved to sql seed file\")\n",
    "\n",
    "    else:\n",
    "        print(f\"Failed to fetch data. Status code: {response.status_code}\")\n",
    "\n",
    "endpoint_url = \"https://restcountries.com/v3.1/all\"\n",
    "fetch_countries_data(endpoint_url)"
   ]
  }
 ],
 "metadata": {
  "kernelspec": {
   "display_name": "Python 3",
   "language": "python",
   "name": "python3"
  },
  "language_info": {
   "codemirror_mode": {
    "name": "ipython",
    "version": 3
   },
   "file_extension": ".py",
   "mimetype": "text/x-python",
   "name": "python",
   "nbconvert_exporter": "python",
   "pygments_lexer": "ipython3",
   "version": "3.9.6"
  },
  "orig_nbformat": 4
 },
 "nbformat": 4,
 "nbformat_minor": 2
}
